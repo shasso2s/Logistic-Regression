{
 "cells": [
  {
   "cell_type": "code",
   "execution_count": 1,
   "metadata": {},
   "outputs": [],
   "source": [
    "import numpy as np\n",
    "import pandas as pd\n",
    "import matplotlib.pyplot as plt"
   ]
  },
  {
   "cell_type": "code",
   "execution_count": 16,
   "metadata": {},
   "outputs": [
    {
     "name": "stdout",
     "output_type": "stream",
     "text": [
      "        Exam1      Exam2  Admition\n",
      "0   34.623660  78.024693         0\n",
      "1   30.286711  43.894998         0\n",
      "2   35.847409  72.902198         0\n",
      "3   60.182599  86.308552         1\n",
      "4   79.032736  75.344376         1\n",
      "..        ...        ...       ...\n",
      "95  83.489163  48.380286         1\n",
      "96  42.261701  87.103851         1\n",
      "97  99.315009  68.775409         1\n",
      "98  55.340018  64.931938         1\n",
      "99  74.775893  89.529813         1\n",
      "\n",
      "[100 rows x 3 columns]\n"
     ]
    }
   ],
   "source": [
    "data=pd.read_csv('datasets/classification_1.csv',header=None,\n",
    "names= ['Exam1','Exam2','Admition'] )\n",
    "print(data)"
   ]
  },
  {
   "cell_type": "code",
   "execution_count": 17,
   "metadata": {},
   "outputs": [],
   "source": [
    "positive=data[data['Admition'].isin([1])]\n",
    "negative=data[data['Admition'].isin([0])]\n"
   ]
  },
  {
   "cell_type": "code",
   "execution_count": 21,
   "metadata": {},
   "outputs": [
    {
     "data": {
      "text/plain": [
       "<matplotlib.collections.PathCollection at 0x1ea6fb177c0>"
      ]
     },
     "execution_count": 21,
     "metadata": {},
     "output_type": "execute_result"
    },
    {
     "data": {
      "image/png": "[encoded data removed]",
      "text/plain": [
       "<Figure size 360x360 with 1 Axes>"
      ]
     },
     "metadata": {
      "needs_background": "light"
     },
     "output_type": "display_data"
    }
   ],
   "source": [
    "fig,ax=plt.subplots(figsize=(5,5))\n",
    "ax.scatter(positive['Exam1'],positive['Exam2'],s=50,c='b',marker='*',label='Admis')\n",
    "ax.scatter(negative['Exam1'],negative['Exam2'],s=50,c='r',marker='+',label='non-Admis')"
   ]
  },
  {
   "cell_type": "code",
   "execution_count": 94,
   "metadata": {},
   "outputs": [],
   "source": [
    "cols=data.shape[1]\n",
    "X=data.iloc[:,0:cols-1]\n",
    "y=data.iloc[:,cols-1:cols]\n",
    "\n",
    "X=np.c_[np.ones((X.shape[0],1)),X]\n"
   ]
  },
  {
   "cell_type": "code",
   "execution_count": 96,
   "metadata": {},
   "outputs": [],
   "source": [
    "def sigmoid(z):\n",
    "    return 1/(1+np.exp(-z))\n",
    "\n",
    "\n"
   ]
  },
  {
   "cell_type": "code",
   "execution_count": 107,
   "metadata": {},
   "outputs": [],
   "source": [
    "#theta=np.zeros(3)"
   ]
  },
  {
   "cell_type": "code",
   "execution_count": 112,
   "metadata": {},
   "outputs": [
    {
     "data": {
      "text/plain": [
       "0.6931471805599453"
      ]
     },
     "execution_count": 112,
     "metadata": {},
     "output_type": "execute_result"
    }
   ],
   "source": [
    "def cost(theta,X,y):\n",
    "    m=x.shape[0]\n",
    "    theta=np.matrix(theta)\n",
    "    X=np.matrix(X)\n",
    "    y=np.matrix(y)\n",
    "\n",
    "    first=np.multiply(-y,np.log(sigmoid(X*theta.T)))\n",
    "    second=np.multiply((1-y),np.log(1-sigmoid(X*theta.T)))\n",
    "    return np.sum(first-second)/m\n",
    "\n",
    "\n",
    "cost(theta,X,y)\n"
   ]
  },
  {
   "cell_type": "code",
   "execution_count": 141,
   "metadata": {},
   "outputs": [
    {
     "name": "stdout",
     "output_type": "stream",
     "text": [
      "gradient descent gives the following value :\n",
      "[ -0.1        -12.00921659 -11.26284221]\n"
     ]
    }
   ],
   "source": [
    "def gradient(theta, X, y):\n",
    "    theta = np.matrix(theta)\n",
    "    X = np.matrix(X)\n",
    "    y = np.matrix(y)\n",
    "    \n",
    "    parameters = int(theta.ravel().shape[1])\n",
    "  \n",
    "    grad = np.zeros(parameters)\n",
    "  \n",
    "    error = sigmoid(X * theta.T) - y\n",
    "    \n",
    "    for i in range(parameters):\n",
    "        \n",
    "        term = np.multiply(error, X[:,i])\n",
    "        grad[i] = np.sum(term) / len(X)\n",
    "          \n",
    "    return grad\n",
    "\n",
    "print( 'gradient descent gives the following value :')\n",
    "print(gradient(theta,X,y))\n",
    "\n"
   ]
  },
  {
   "cell_type": "code",
   "execution_count": 153,
   "metadata": {},
   "outputs": [
    {
     "name": "stdout",
     "output_type": "stream",
     "text": [
      "theta= 0.20349770158947425\n"
     ]
    }
   ],
   "source": [
    "import scipy.optimize as opt\n",
    "result=opt.fmin_tnc(func=cost,x0=theta,fprime=gradient,args=(X,y))\n",
    "\n",
    "theta_value=cost(result[0],X,y)\n",
    "print('theta=',costafteroptimize)"
   ]
  },
  {
   "cell_type": "code",
   "execution_count": 168,
   "metadata": {},
   "outputs": [
    {
     "name": "stdout",
     "output_type": "stream",
     "text": [
      "0.89\n"
     ]
    }
   ],
   "source": [
    "def predict(theta,X):\n",
    "    prob=sigmoid(X*theta.T)\n",
    "    return [1 if x>=0.5 else 0  for x in prob]\n",
    "\n",
    "theta_min= np.matrix(result[0])\n",
    "preditions=predict(theta_min,X)\n",
    "\n",
    "def accuracy():\n",
    "    accuracy=0\n",
    "\n",
    "    for i in range(0,len(preditions)):\n",
    "        if(preditions[i]==y[i]):\n",
    "            accuracy+=1\n",
    "    return accuracy/len(preditions)\n",
    "print( accuracy())\n",
    "        \n",
    "    \n",
    "        \n",
    "\n",
    "\n",
    "\n"
   ]
  }
 ],
 "metadata": {
  "kernelspec": {
   "display_name": "Python 3",
   "language": "python",
   "name": "python3"
  },
  "language_info": {
   "codemirror_mode": {
    "name": "ipython",
    "version": 3
   },
   "file_extension": ".py",
   "mimetype": "text/x-python",
   "name": "python",
   "nbconvert_exporter": "python",
   "pygments_lexer": "ipython3",
   "version": "3.8.3"
  }
 },
 "nbformat": 4,
 "nbformat_minor": 4
}
